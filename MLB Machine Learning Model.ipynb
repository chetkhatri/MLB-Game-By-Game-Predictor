{
 "cells": [
  {
   "cell_type": "code",
   "execution_count": 1,
   "metadata": {
    "collapsed": true
   },
   "outputs": [],
   "source": [
    "import numpy as np\n",
    "import pandas as pd"
   ]
  },
  {
   "cell_type": "code",
   "execution_count": 7,
   "metadata": {
    "collapsed": false
   },
   "outputs": [
    {
     "name": "stdout",
     "output_type": "stream",
     "text": [
      "<class 'pandas.core.frame.DataFrame'>\n",
      "RangeIndex: 101332 entries, 0 to 101331\n",
      "Data columns (total 22 columns):\n",
      "player_id    101332 non-null object\n",
      "year         101332 non-null int64\n",
      "stint        101332 non-null int64\n",
      "team_id      101332 non-null object\n",
      "league_id    100595 non-null object\n",
      "g            101332 non-null int64\n",
      "ab           96183 non-null float64\n",
      "r            96183 non-null float64\n",
      "h            96183 non-null float64\n",
      "double       96183 non-null float64\n",
      "triple       96183 non-null float64\n",
      "hr           96183 non-null float64\n",
      "rbi          95759 non-null float64\n",
      "sb           94883 non-null float64\n",
      "cs           72729 non-null float64\n",
      "bb           96183 non-null float64\n",
      "so           88345 non-null float64\n",
      "ibb          59620 non-null float64\n",
      "hbp          93373 non-null float64\n",
      "sh           89845 non-null float64\n",
      "sf           60151 non-null float64\n",
      "g_idp        70075 non-null float64\n",
      "dtypes: float64(16), int64(3), object(3)\n",
      "memory usage: 17.0+ MB\n"
     ]
    }
   ],
   "source": [
    "batting = pd.read_csv('batting.csv')\n",
    "batting.info()"
   ]
  },
  {
   "cell_type": "code",
   "execution_count": 8,
   "metadata": {
    "collapsed": false
   },
   "outputs": [
    {
     "name": "stdout",
     "output_type": "stream",
     "text": [
      "<class 'pandas.core.frame.DataFrame'>\n",
      "RangeIndex: 44139 entries, 0 to 44138\n",
      "Data columns (total 30 columns):\n",
      "player_id    44139 non-null object\n",
      "year         44139 non-null int64\n",
      "stint        44139 non-null int64\n",
      "team_id      44139 non-null object\n",
      "league_id    44008 non-null object\n",
      "w            44139 non-null int64\n",
      "l            44139 non-null int64\n",
      "g            44139 non-null int64\n",
      "gs           44139 non-null int64\n",
      "cg           44139 non-null int64\n",
      "sho          44139 non-null int64\n",
      "sv           44139 non-null int64\n",
      "ipouts       44138 non-null float64\n",
      "h            44139 non-null int64\n",
      "er           44139 non-null int64\n",
      "hr           44139 non-null int64\n",
      "bb           44139 non-null int64\n",
      "so           44139 non-null int64\n",
      "baopp        42614 non-null float64\n",
      "era          44049 non-null float64\n",
      "ibb          29564 non-null float64\n",
      "wp           44006 non-null float64\n",
      "hbp          43580 non-null float64\n",
      "bk           44139 non-null int64\n",
      "bfp          43900 non-null float64\n",
      "gf           44006 non-null float64\n",
      "r            44139 non-null int64\n",
      "sh           11239 non-null float64\n",
      "sf           11239 non-null float64\n",
      "g_idp        745 non-null float64\n",
      "dtypes: float64(11), int64(16), object(3)\n",
      "memory usage: 10.1+ MB\n"
     ]
    }
   ],
   "source": [
    "pitching = pd.read_csv('pitching.csv')\n",
    "pitching.info()"
   ]
  },
  {
   "cell_type": "code",
   "execution_count": null,
   "metadata": {
    "collapsed": true
   },
   "outputs": [],
   "source": []
  }
 ],
 "metadata": {
  "anaconda-cloud": {},
  "kernelspec": {
   "display_name": "Python [default]",
   "language": "python",
   "name": "python2"
  },
  "language_info": {
   "codemirror_mode": {
    "name": "ipython",
    "version": 2
   },
   "file_extension": ".py",
   "mimetype": "text/x-python",
   "name": "python",
   "nbconvert_exporter": "python",
   "pygments_lexer": "ipython2",
   "version": "2.7.12"
  }
 },
 "nbformat": 4,
 "nbformat_minor": 1
}
